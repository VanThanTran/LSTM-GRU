{
  "metadata": {
    "kernelspec": {
      "display_name": "Python 3",
      "language": "python",
      "name": "python3"
    },
    "language_info": {
      "name": "python",
      "version": "3.6.6",
      "mimetype": "text/x-python",
      "codemirror_mode": {
        "name": "ipython",
        "version": 3
      },
      "pygments_lexer": "ipython3",
      "nbconvert_exporter": "python",
      "file_extension": ".py"
    },
    "colab": {
      "name": "recurrent-neural-networks-lstm-gru.ipynb",
      "provenance": []
    },
    "accelerator": "GPU"
  },
  "nbformat_minor": 0,
  "nbformat": 4,
  "cells": [
    {
      "cell_type": "code",
      "source": [
        "from google.colab import drive\n",
        "drive.mount('/content/gdrive')"
      ],
      "metadata": {
        "colab": {
          "base_uri": "https://localhost:8080/"
        },
        "id": "LjaZf8ENV6Tn",
        "outputId": "548cbc0c-5d01-4301-f3e9-75fe904a1bd7"
      },
      "execution_count": 2,
      "outputs": [
        {
          "output_type": "stream",
          "name": "stdout",
          "text": [
            "Drive already mounted at /content/gdrive; to attempt to forcibly remount, call drive.mount(\"/content/gdrive\", force_remount=True).\n"
          ]
        }
      ]
    },
    {
      "cell_type": "code",
      "source": [
        "%cd '/content/gdrive/MyDrive/RNN'\n",
        "! ls"
      ],
      "metadata": {
        "colab": {
          "base_uri": "https://localhost:8080/"
        },
        "id": "2zcWvz1DV7F7",
        "outputId": "52a2d16d-cc66-42ca-c1a3-9389b42c0da2"
      },
      "execution_count": 3,
      "outputs": [
        {
          "output_type": "stream",
          "name": "stdout",
          "text": [
            "/content/gdrive/MyDrive/RNN\n",
            "IBM_2006-01-01_to_2018-01-01.csv  recurrent-neural-networks-lstm-gru.ipynb\n"
          ]
        }
      ]
    },
    {
      "cell_type": "code",
      "source": [
        "# Importing the libraries\n",
        "import numpy as np\n",
        "import tensorflow as tf\n",
        "import matplotlib.pyplot as plt\n",
        "import pandas as pd\n",
        "from sklearn.preprocessing import MinMaxScaler\n",
        "from keras.models import Sequential\n",
        "from keras.layers import Dense, Dropout, SimpleRNN, GRU, LSTM\n",
        "from tensorflow.keras.optimizers import SGD, Adam\n",
        "import math\n",
        "from sklearn.metrics import mean_squared_error"
      ],
      "metadata": {
        "_uuid": "da0236e4b36ce514c1fec3fd72f236d1fa259131",
        "collapsed": true,
        "jupyter": {
          "outputs_hidden": true
        },
        "trusted": true,
        "id": "mbW_3qWoV2ak"
      },
      "execution_count": 4,
      "outputs": []
    },
    {
      "cell_type": "code",
      "source": [
        "# Some functions to help out with\n",
        "def plot_predictions(test,predicted):\n",
        "    plt.plot(test, color='red',label='Real IBM Stock Price')\n",
        "    plt.plot(predicted, color='blue',label='Predicted IBM Stock Price')\n",
        "    plt.title('IBM Stock Price Prediction')\n",
        "    plt.xlabel('Time')\n",
        "    plt.ylabel('IBM Stock Price')\n",
        "    plt.legend()\n",
        "    plt.show()\n",
        "\n",
        "def return_rmse(test,predicted):\n",
        "    rmse = math.sqrt(mean_squared_error(test, predicted))\n",
        "    print(\"The root mean squared error is {}.\".format(rmse))"
      ],
      "metadata": {
        "_uuid": "b288a8e2caf6196daec9cd2bc4ca78fe50345845",
        "trusted": true,
        "id": "Z-6hkXIcV2ao"
      },
      "execution_count": 5,
      "outputs": []
    },
    {
      "cell_type": "markdown",
      "source": [
        "**Prepare data**"
      ],
      "metadata": {
        "id": "9KA8D3XWCfNW"
      }
    },
    {
      "cell_type": "code",
      "source": [
        "# First, we get the data\n",
        "dataset = pd.read_csv('../RNN/IBM_2006-01-01_to_2018-01-01.csv', index_col='Date', parse_dates=['Date'])\n",
        "dataset.head()"
      ],
      "metadata": {
        "_uuid": "4cf10cf27420eb383b93b15c0895139ea96c0ed3",
        "jupyter": {
          "outputs_hidden": true
        },
        "trusted": true,
        "colab": {
          "base_uri": "https://localhost:8080/",
          "height": 238
        },
        "id": "cn3z0YGfV2ap",
        "outputId": "f77dd5a9-faac-4f89-9463-ad0527294f10"
      },
      "execution_count": 6,
      "outputs": [
        {
          "output_type": "execute_result",
          "data": {
            "text/html": [
              "\n",
              "  <div id=\"df-ff21dfa8-8500-4e77-a189-cdb2fcd34031\">\n",
              "    <div class=\"colab-df-container\">\n",
              "      <div>\n",
              "<style scoped>\n",
              "    .dataframe tbody tr th:only-of-type {\n",
              "        vertical-align: middle;\n",
              "    }\n",
              "\n",
              "    .dataframe tbody tr th {\n",
              "        vertical-align: top;\n",
              "    }\n",
              "\n",
              "    .dataframe thead th {\n",
              "        text-align: right;\n",
              "    }\n",
              "</style>\n",
              "<table border=\"1\" class=\"dataframe\">\n",
              "  <thead>\n",
              "    <tr style=\"text-align: right;\">\n",
              "      <th></th>\n",
              "      <th>Open</th>\n",
              "      <th>High</th>\n",
              "      <th>Low</th>\n",
              "      <th>Close</th>\n",
              "      <th>Volume</th>\n",
              "      <th>Name</th>\n",
              "    </tr>\n",
              "    <tr>\n",
              "      <th>Date</th>\n",
              "      <th></th>\n",
              "      <th></th>\n",
              "      <th></th>\n",
              "      <th></th>\n",
              "      <th></th>\n",
              "      <th></th>\n",
              "    </tr>\n",
              "  </thead>\n",
              "  <tbody>\n",
              "    <tr>\n",
              "      <th>2006-01-03</th>\n",
              "      <td>82.45</td>\n",
              "      <td>82.55</td>\n",
              "      <td>80.81</td>\n",
              "      <td>82.06</td>\n",
              "      <td>11715200</td>\n",
              "      <td>IBM</td>\n",
              "    </tr>\n",
              "    <tr>\n",
              "      <th>2006-01-04</th>\n",
              "      <td>82.20</td>\n",
              "      <td>82.50</td>\n",
              "      <td>81.33</td>\n",
              "      <td>81.95</td>\n",
              "      <td>9840600</td>\n",
              "      <td>IBM</td>\n",
              "    </tr>\n",
              "    <tr>\n",
              "      <th>2006-01-05</th>\n",
              "      <td>81.40</td>\n",
              "      <td>82.90</td>\n",
              "      <td>81.00</td>\n",
              "      <td>82.50</td>\n",
              "      <td>7213500</td>\n",
              "      <td>IBM</td>\n",
              "    </tr>\n",
              "    <tr>\n",
              "      <th>2006-01-06</th>\n",
              "      <td>83.95</td>\n",
              "      <td>85.03</td>\n",
              "      <td>83.41</td>\n",
              "      <td>84.95</td>\n",
              "      <td>8197400</td>\n",
              "      <td>IBM</td>\n",
              "    </tr>\n",
              "    <tr>\n",
              "      <th>2006-01-09</th>\n",
              "      <td>84.10</td>\n",
              "      <td>84.25</td>\n",
              "      <td>83.38</td>\n",
              "      <td>83.73</td>\n",
              "      <td>6858200</td>\n",
              "      <td>IBM</td>\n",
              "    </tr>\n",
              "  </tbody>\n",
              "</table>\n",
              "</div>\n",
              "      <button class=\"colab-df-convert\" onclick=\"convertToInteractive('df-ff21dfa8-8500-4e77-a189-cdb2fcd34031')\"\n",
              "              title=\"Convert this dataframe to an interactive table.\"\n",
              "              style=\"display:none;\">\n",
              "        \n",
              "  <svg xmlns=\"http://www.w3.org/2000/svg\" height=\"24px\"viewBox=\"0 0 24 24\"\n",
              "       width=\"24px\">\n",
              "    <path d=\"M0 0h24v24H0V0z\" fill=\"none\"/>\n",
              "    <path d=\"M18.56 5.44l.94 2.06.94-2.06 2.06-.94-2.06-.94-.94-2.06-.94 2.06-2.06.94zm-11 1L8.5 8.5l.94-2.06 2.06-.94-2.06-.94L8.5 2.5l-.94 2.06-2.06.94zm10 10l.94 2.06.94-2.06 2.06-.94-2.06-.94-.94-2.06-.94 2.06-2.06.94z\"/><path d=\"M17.41 7.96l-1.37-1.37c-.4-.4-.92-.59-1.43-.59-.52 0-1.04.2-1.43.59L10.3 9.45l-7.72 7.72c-.78.78-.78 2.05 0 2.83L4 21.41c.39.39.9.59 1.41.59.51 0 1.02-.2 1.41-.59l7.78-7.78 2.81-2.81c.8-.78.8-2.07 0-2.86zM5.41 20L4 18.59l7.72-7.72 1.47 1.35L5.41 20z\"/>\n",
              "  </svg>\n",
              "      </button>\n",
              "      \n",
              "  <style>\n",
              "    .colab-df-container {\n",
              "      display:flex;\n",
              "      flex-wrap:wrap;\n",
              "      gap: 12px;\n",
              "    }\n",
              "\n",
              "    .colab-df-convert {\n",
              "      background-color: #E8F0FE;\n",
              "      border: none;\n",
              "      border-radius: 50%;\n",
              "      cursor: pointer;\n",
              "      display: none;\n",
              "      fill: #1967D2;\n",
              "      height: 32px;\n",
              "      padding: 0 0 0 0;\n",
              "      width: 32px;\n",
              "    }\n",
              "\n",
              "    .colab-df-convert:hover {\n",
              "      background-color: #E2EBFA;\n",
              "      box-shadow: 0px 1px 2px rgba(60, 64, 67, 0.3), 0px 1px 3px 1px rgba(60, 64, 67, 0.15);\n",
              "      fill: #174EA6;\n",
              "    }\n",
              "\n",
              "    [theme=dark] .colab-df-convert {\n",
              "      background-color: #3B4455;\n",
              "      fill: #D2E3FC;\n",
              "    }\n",
              "\n",
              "    [theme=dark] .colab-df-convert:hover {\n",
              "      background-color: #434B5C;\n",
              "      box-shadow: 0px 1px 3px 1px rgba(0, 0, 0, 0.15);\n",
              "      filter: drop-shadow(0px 1px 2px rgba(0, 0, 0, 0.3));\n",
              "      fill: #FFFFFF;\n",
              "    }\n",
              "  </style>\n",
              "\n",
              "      <script>\n",
              "        const buttonEl =\n",
              "          document.querySelector('#df-ff21dfa8-8500-4e77-a189-cdb2fcd34031 button.colab-df-convert');\n",
              "        buttonEl.style.display =\n",
              "          google.colab.kernel.accessAllowed ? 'block' : 'none';\n",
              "\n",
              "        async function convertToInteractive(key) {\n",
              "          const element = document.querySelector('#df-ff21dfa8-8500-4e77-a189-cdb2fcd34031');\n",
              "          const dataTable =\n",
              "            await google.colab.kernel.invokeFunction('convertToInteractive',\n",
              "                                                     [key], {});\n",
              "          if (!dataTable) return;\n",
              "\n",
              "          const docLinkHtml = 'Like what you see? Visit the ' +\n",
              "            '<a target=\"_blank\" href=https://colab.research.google.com/notebooks/data_table.ipynb>data table notebook</a>'\n",
              "            + ' to learn more about interactive tables.';\n",
              "          element.innerHTML = '';\n",
              "          dataTable['output_type'] = 'display_data';\n",
              "          await google.colab.output.renderOutput(dataTable, element);\n",
              "          const docLink = document.createElement('div');\n",
              "          docLink.innerHTML = docLinkHtml;\n",
              "          element.appendChild(docLink);\n",
              "        }\n",
              "      </script>\n",
              "    </div>\n",
              "  </div>\n",
              "  "
            ],
            "text/plain": [
              "             Open   High    Low  Close    Volume Name\n",
              "Date                                                 \n",
              "2006-01-03  82.45  82.55  80.81  82.06  11715200  IBM\n",
              "2006-01-04  82.20  82.50  81.33  81.95   9840600  IBM\n",
              "2006-01-05  81.40  82.90  81.00  82.50   7213500  IBM\n",
              "2006-01-06  83.95  85.03  83.41  84.95   8197400  IBM\n",
              "2006-01-09  84.10  84.25  83.38  83.73   6858200  IBM"
            ]
          },
          "metadata": {},
          "execution_count": 6
        }
      ]
    },
    {
      "cell_type": "code",
      "source": [
        "# Checking for missing values\n",
        "training_set = dataset[:'2016'].iloc[:,1:2].values\n",
        "test_set = dataset['2017':].iloc[:,1:2].values\n",
        "\n",
        "print('training_set.shape = ', training_set.shape)\n",
        "print('test_set.shape = ', test_set.shape)"
      ],
      "metadata": {
        "_uuid": "fb4c9db6d8a5bcf20ffad41747cfa5b6215ba220",
        "collapsed": true,
        "jupyter": {
          "outputs_hidden": true
        },
        "trusted": true,
        "colab": {
          "base_uri": "https://localhost:8080/"
        },
        "id": "26NRgWpuV2ap",
        "outputId": "5810fe42-2737-49ac-9d0f-f2d25e7277a6"
      },
      "execution_count": 7,
      "outputs": [
        {
          "output_type": "stream",
          "name": "stdout",
          "text": [
            "training_set.shape =  (2769, 1)\n",
            "test_set.shape =  (251, 1)\n"
          ]
        }
      ]
    },
    {
      "cell_type": "code",
      "source": [
        "# We have chosen 'High' attribute for prices. Let's see what it looks like\n",
        "dataset[\"High\"][:'2016'].plot(figsize=(12,4),legend=True)\n",
        "dataset[\"High\"]['2017':].plot(figsize=(12,4),legend=True)\n",
        "plt.legend(['Training set (Before 2017)','Test set (2017 and beyond)'])\n",
        "plt.title('IBM stock price')\n",
        "plt.show()"
      ],
      "metadata": {
        "_uuid": "bf5a9463d58e73852d2b70be9611e8cf1f4166fd",
        "collapsed": true,
        "jupyter": {
          "outputs_hidden": true
        },
        "trusted": true,
        "colab": {
          "base_uri": "https://localhost:8080/",
          "height": 285
        },
        "id": "E71mEY6iV2ap",
        "outputId": "b88a6252-ab7f-4ab6-a0ea-05977f0d3753"
      },
      "execution_count": 8,
      "outputs": [
        {
          "output_type": "display_data",
          "data": {
            "image/png": "[encoded data removed]",
            "text/plain": [
              "<Figure size 864x288 with 1 Axes>"
            ]
          },
          "metadata": {
            "needs_background": "light"
          }
        }
      ]
    },
    {
      "cell_type": "code",
      "source": [
        "# Scaling the training set\n",
        "sc = MinMaxScaler(feature_range=(0,1))\n",
        "training_set_scaled = sc.fit_transform(training_set)\n",
        "\n",
        "print('training_set_scaled.shape = ', training_set_scaled.shape)"
      ],
      "metadata": {
        "_uuid": "bcc9c36165fc07d258bd5ea87874d2da17fa4a4d",
        "collapsed": true,
        "jupyter": {
          "outputs_hidden": true
        },
        "trusted": true,
        "colab": {
          "base_uri": "https://localhost:8080/"
        },
        "id": "u37iBWlwV2aq",
        "outputId": "e51506ea-c2e7-4520-8625-f4af8b321dda"
      },
      "execution_count": 9,
      "outputs": [
        {
          "output_type": "stream",
          "name": "stdout",
          "text": [
            "training_set_scaled.shape =  (2769, 1)\n"
          ]
        }
      ]
    },
    {
      "cell_type": "code",
      "source": [
        "# Since LSTMs store long term memory state, we create a data structure with 60 timesteps and 1 output\n",
        "# So for each element of training set, we have 60 previous training set elements \n",
        "X_train = []\n",
        "y_train = []\n",
        "for i in range(60, 2769):\n",
        "    X_train.append(training_set_scaled[i-60:i, 0])\n",
        "    y_train.append(training_set_scaled[i, 0])\n",
        "X_train, y_train = np.array(X_train), np.array(y_train)\n",
        "\n",
        "print('X_train.shape = ', X_train.shape)\n",
        "print('y_train.shape = ', y_train.shape)"
      ],
      "metadata": {
        "_uuid": "fccfb866a2b4c702e0b2742f7c0289512d713d1b",
        "collapsed": true,
        "jupyter": {
          "outputs_hidden": true
        },
        "trusted": true,
        "colab": {
          "base_uri": "https://localhost:8080/"
        },
        "id": "qtunyPQwV2ar",
        "outputId": "663490d9-222b-4141-d25c-3368275598ca"
      },
      "execution_count": 10,
      "outputs": [
        {
          "output_type": "stream",
          "name": "stdout",
          "text": [
            "X_train.shape =  (2709, 60)\n",
            "y_train.shape =  (2709,)\n"
          ]
        }
      ]
    },
    {
      "cell_type": "code",
      "source": [
        "# Reshaping X_train for efficient modelling\n",
        "X_train = np.reshape(X_train, (X_train.shape[0], X_train.shape[1], 1))\n",
        "\n",
        "print('X_train.shape = ', X_train.shape)"
      ],
      "metadata": {
        "_uuid": "637f699d3c4bde4b783de56ed4dd70a1bf59760d",
        "collapsed": true,
        "jupyter": {
          "outputs_hidden": true
        },
        "trusted": true,
        "colab": {
          "base_uri": "https://localhost:8080/"
        },
        "id": "gMD3VWNPV2ar",
        "outputId": "4488c134-acb6-474d-cb25-a28ab4e91940"
      },
      "execution_count": 11,
      "outputs": [
        {
          "output_type": "stream",
          "name": "stdout",
          "text": [
            "X_train.shape =  (2709, 60, 1)\n"
          ]
        }
      ]
    },
    {
      "cell_type": "markdown",
      "source": [
        "**1. LSTM model**"
      ],
      "metadata": {
        "id": "JoQSvvIyCGjQ"
      }
    },
    {
      "cell_type": "code",
      "source": [
        "# The LSTM architecture\n",
        "regressorLSTM = Sequential()\n",
        "# First LSTM layer with Dropout regularisation\n",
        "regressorLSTM.add(LSTM(50, return_sequences=True, input_shape=(X_train.shape[1],1)))\n",
        "regressorLSTM.add(Dropout(0.2))\n",
        "# Second LSTM layer\n",
        "regressorLSTM.add(LSTM(50, return_sequences=True))\n",
        "regressorLSTM.add(Dropout(0.2))\n",
        "# Third LSTM layer\n",
        "regressorLSTM.add(LSTM(50, return_sequences=True))\n",
        "regressorLSTM.add(Dropout(0.2))\n",
        "# Fourth LSTM layer\n",
        "regressorLSTM.add(LSTM(50))\n",
        "regressorLSTM.add(Dropout(0.2))\n",
        "# The output layer\n",
        "regressorLSTM.add(Dense(1))\n",
        "\n",
        "regressorLSTM.summary()"
      ],
      "metadata": {
        "_uuid": "df20eb7e8062dae0a3aff2182aa440faddd0017d",
        "collapsed": true,
        "jupyter": {
          "outputs_hidden": true
        },
        "trusted": true,
        "colab": {
          "base_uri": "https://localhost:8080/"
        },
        "id": "1jzRSa7JV2ar",
        "outputId": "a537ed81-7a1a-44da-f69b-b399044858a0"
      },
      "execution_count": 12,
      "outputs": [
        {
          "output_type": "stream",
          "name": "stdout",
          "text": [
            "Model: \"sequential\"\n",
            "_________________________________________________________________\n",
            " Layer (type)                Output Shape              Param #   \n",
            "=================================================================\n",
            " lstm (LSTM)                 (None, 60, 50)            10400     \n",
            "                                                                 \n",
            " dropout (Dropout)           (None, 60, 50)            0         \n",
            "                                                                 \n",
            " lstm_1 (LSTM)               (None, 60, 50)            20200     \n",
            "                                                                 \n",
            " dropout_1 (Dropout)         (None, 60, 50)            0         \n",
            "                                                                 \n",
            " lstm_2 (LSTM)               (None, 60, 50)            20200     \n",
            "                                                                 \n",
            " dropout_2 (Dropout)         (None, 60, 50)            0         \n",
            "                                                                 \n",
            " lstm_3 (LSTM)               (None, 50)                20200     \n",
            "                                                                 \n",
            " dropout_3 (Dropout)         (None, 50)                0         \n",
            "                                                                 \n",
            " dense (Dense)               (None, 1)                 51        \n",
            "                                                                 \n",
            "=================================================================\n",
            "Total params: 71,051\n",
            "Trainable params: 71,051\n",
            "Non-trainable params: 0\n",
            "_________________________________________________________________\n"
          ]
        }
      ]
    },
    {
      "cell_type": "code",
      "source": [
        "# Compiling the LSTM\n",
        "regressorLSTM.compile(optimizer='adam', loss='mse')\n",
        "# Fitting to the training set\n",
        "lstm = regressorLSTM.fit(X_train, y_train, epochs=50, batch_size=32)"
      ],
      "metadata": {
        "colab": {
          "base_uri": "https://localhost:8080/"
        },
        "id": "B5WWjVb0EdFH",
        "outputId": "3bf7bc95-1538-4664-f531-fe44e71de811"
      },
      "execution_count": 13,
      "outputs": [
        {
          "output_type": "stream",
          "name": "stdout",
          "text": [
            "Epoch 1/50\n",
            "85/85 [==============================] - 15s 62ms/step - loss: 0.0237\n",
            "Epoch 2/50\n",
            "85/85 [==============================] - 5s 62ms/step - loss: 0.0054\n",
            "Epoch 3/50\n",
            "85/85 [==============================] - 5s 62ms/step - loss: 0.0046\n",
            "Epoch 4/50\n",
            "85/85 [==============================] - 5s 62ms/step - loss: 0.0047\n",
            "Epoch 5/50\n",
            "85/85 [==============================] - 5s 62ms/step - loss: 0.0043\n",
            "Epoch 6/50\n",
            "85/85 [==============================] - 5s 62ms/step - loss: 0.0038\n",
            "Epoch 7/50\n",
            "85/85 [==============================] - 5s 62ms/step - loss: 0.0041\n",
            "Epoch 8/50\n",
            "85/85 [==============================] - 5s 62ms/step - loss: 0.0040\n",
            "Epoch 9/50\n",
            "85/85 [==============================] - 6s 65ms/step - loss: 0.0033\n",
            "Epoch 10/50\n",
            "85/85 [==============================] - 6s 65ms/step - loss: 0.0032\n",
            "Epoch 11/50\n",
            "85/85 [==============================] - 5s 62ms/step - loss: 0.0033\n",
            "Epoch 12/50\n",
            "85/85 [==============================] - 5s 61ms/step - loss: 0.0032\n",
            "Epoch 13/50\n",
            "85/85 [==============================] - 5s 62ms/step - loss: 0.0030\n",
            "Epoch 14/50\n",
            "85/85 [==============================] - 5s 62ms/step - loss: 0.0028\n",
            "Epoch 15/50\n",
            "85/85 [==============================] - 5s 62ms/step - loss: 0.0030\n",
            "Epoch 16/50\n",
            "85/85 [==============================] - 5s 62ms/step - loss: 0.0027\n",
            "Epoch 17/50\n",
            "85/85 [==============================] - 5s 62ms/step - loss: 0.0027\n",
            "Epoch 18/50\n",
            "85/85 [==============================] - 5s 62ms/step - loss: 0.0024\n",
            "Epoch 19/50\n",
            "85/85 [==============================] - 5s 62ms/step - loss: 0.0021\n",
            "Epoch 20/50\n",
            "85/85 [==============================] - 5s 62ms/step - loss: 0.0025\n",
            "Epoch 21/50\n",
            "85/85 [==============================] - 5s 62ms/step - loss: 0.0021\n",
            "Epoch 22/50\n",
            "85/85 [==============================] - 5s 62ms/step - loss: 0.0025\n",
            "Epoch 23/50\n",
            "85/85 [==============================] - 5s 62ms/step - loss: 0.0020\n",
            "Epoch 24/50\n",
            "85/85 [==============================] - 5s 62ms/step - loss: 0.0022\n",
            "Epoch 25/50\n",
            "85/85 [==============================] - 5s 62ms/step - loss: 0.0020\n",
            "Epoch 26/50\n",
            "85/85 [==============================] - 5s 63ms/step - loss: 0.0020\n",
            "Epoch 27/50\n",
            "85/85 [==============================] - 5s 62ms/step - loss: 0.0019\n",
            "Epoch 28/50\n",
            "85/85 [==============================] - 5s 62ms/step - loss: 0.0021\n",
            "Epoch 29/50\n",
            "85/85 [==============================] - 5s 62ms/step - loss: 0.0018\n",
            "Epoch 30/50\n",
            "85/85 [==============================] - 5s 61ms/step - loss: 0.0018\n",
            "Epoch 31/50\n",
            "85/85 [==============================] - 5s 62ms/step - loss: 0.0019\n",
            "Epoch 32/50\n",
            "85/85 [==============================] - 5s 62ms/step - loss: 0.0017\n",
            "Epoch 33/50\n",
            "85/85 [==============================] - 5s 62ms/step - loss: 0.0016\n",
            "Epoch 34/50\n",
            "85/85 [==============================] - 5s 62ms/step - loss: 0.0017\n",
            "Epoch 35/50\n",
            "85/85 [==============================] - 5s 62ms/step - loss: 0.0017\n",
            "Epoch 36/50\n",
            "85/85 [==============================] - 5s 62ms/step - loss: 0.0015\n",
            "Epoch 37/50\n",
            "85/85 [==============================] - 5s 62ms/step - loss: 0.0016\n",
            "Epoch 38/50\n",
            "85/85 [==============================] - 5s 62ms/step - loss: 0.0016\n",
            "Epoch 39/50\n",
            "85/85 [==============================] - 5s 62ms/step - loss: 0.0015\n",
            "Epoch 40/50\n",
            "85/85 [==============================] - 5s 62ms/step - loss: 0.0015\n",
            "Epoch 41/50\n",
            "85/85 [==============================] - 5s 62ms/step - loss: 0.0015\n",
            "Epoch 42/50\n",
            "85/85 [==============================] - 5s 62ms/step - loss: 0.0015\n",
            "Epoch 43/50\n",
            "85/85 [==============================] - 5s 62ms/step - loss: 0.0015\n",
            "Epoch 44/50\n",
            "85/85 [==============================] - 5s 61ms/step - loss: 0.0013\n",
            "Epoch 45/50\n",
            "85/85 [==============================] - 5s 61ms/step - loss: 0.0014\n",
            "Epoch 46/50\n",
            "85/85 [==============================] - 5s 62ms/step - loss: 0.0015\n",
            "Epoch 47/50\n",
            "85/85 [==============================] - 5s 62ms/step - loss: 0.0012\n",
            "Epoch 48/50\n",
            "85/85 [==============================] - 5s 62ms/step - loss: 0.0013\n",
            "Epoch 49/50\n",
            "85/85 [==============================] - 5s 62ms/step - loss: 0.0013\n",
            "Epoch 50/50\n",
            "85/85 [==============================] - 5s 62ms/step - loss: 0.0013\n"
          ]
        }
      ]
    },
    {
      "cell_type": "code",
      "source": [
        "# loss\n",
        "plt.plot(lstm.history['loss'], label='train loss')\n",
        "plt.xlabel('Epoch')\n",
        "plt.ylabel('Loss')\n",
        "plt.legend()\n",
        "plt.show()"
      ],
      "metadata": {
        "colab": {
          "base_uri": "https://localhost:8080/",
          "height": 279
        },
        "id": "Lr0MnpHFHBSQ",
        "outputId": "8d4c4c20-d062-468f-a0e1-ff12cf3bb09e"
      },
      "execution_count": 14,
      "outputs": [
        {
          "output_type": "display_data",
          "data": {
            "image/png": "[encoded data removed]",
            "text/plain": [
              "<Figure size 432x288 with 1 Axes>"
            ]
          },
          "metadata": {
            "needs_background": "light"
          }
        }
      ]
    },
    {
      "cell_type": "code",
      "source": [
        "# Now to get the test set ready in a similar way as the training set.\n",
        "# The following has been done so forst 60 entires of test set have 60 previous values which is impossible to get unless we take the whole \n",
        "# 'High' attribute data for processing\n",
        "dataset_total = pd.concat((dataset[\"High\"][:'2016'], dataset[\"High\"]['2017':]), axis=0)\n",
        "inputs = dataset_total[len(dataset_total) - len(test_set) - 60:].values\n",
        "print('dataset_total.shape = ', dataset_total.shape)\n",
        "print('inputs.shape = ', inputs.shape)\n",
        "\n",
        "inputs = inputs.reshape(-1,1)\n",
        "print('inputs.shape = ', inputs.shape)\n",
        "\n",
        "inputs  = sc.transform(inputs)\n",
        "print('inputs.shape = ', inputs.shape)"
      ],
      "metadata": {
        "_uuid": "326fa85615622feb484cc4c848edeec6f7133913",
        "collapsed": true,
        "jupyter": {
          "outputs_hidden": true
        },
        "trusted": true,
        "colab": {
          "base_uri": "https://localhost:8080/"
        },
        "id": "E0yn16vAV2as",
        "outputId": "61be1606-9c91-449c-a308-0d1603aa79ce"
      },
      "execution_count": 15,
      "outputs": [
        {
          "output_type": "stream",
          "name": "stdout",
          "text": [
            "dataset_total.shape =  (3020,)\n",
            "inputs.shape =  (311,)\n",
            "inputs.shape =  (311, 1)\n",
            "inputs.shape =  (311, 1)\n"
          ]
        }
      ]
    },
    {
      "cell_type": "code",
      "source": [
        "# Preparing X_test and predicting the prices\n",
        "X_test = []\n",
        "for i in range(60, 311):\n",
        "    X_test.append(inputs[i-60:i, 0])\n",
        "X_test = np.array(X_test)\n",
        "print('X_test.shape = ', X_test.shape)\n",
        "\n",
        "X_test = np.reshape(X_test, (X_test.shape[0], X_test.shape[1], 1))\n",
        "print('X_test.shape = ', X_test.shape)\n",
        "\n",
        "LSTM_predicted_stock_price = regressorLSTM.predict(X_test)\n",
        "LSTM_predicted_stock_price = sc.inverse_transform(LSTM_predicted_stock_price)\n",
        "print('LSTM_predicted_stock_price.shape = ', LSTM_predicted_stock_price.shape)"
      ],
      "metadata": {
        "_uuid": "435b8024814939ac4fbd372baa0cd8cfc78f80bc",
        "collapsed": true,
        "jupyter": {
          "outputs_hidden": true
        },
        "trusted": true,
        "colab": {
          "base_uri": "https://localhost:8080/"
        },
        "id": "U4YvZzoBV2as",
        "outputId": "95eed5c5-abec-4b34-d489-6e94e149f40c"
      },
      "execution_count": 16,
      "outputs": [
        {
          "output_type": "stream",
          "name": "stdout",
          "text": [
            "X_test.shape =  (251, 60)\n",
            "X_test.shape =  (251, 60, 1)\n",
            "LSTM_predicted_stock_price.shape =  (251, 1)\n"
          ]
        }
      ]
    },
    {
      "cell_type": "code",
      "source": [
        "# Visualizing the results for LSTM\n",
        "plot_predictions(test_set, LSTM_predicted_stock_price)"
      ],
      "metadata": {
        "_uuid": "b774a8e79e53eac89694cafef6b11aa99226b95f",
        "collapsed": true,
        "jupyter": {
          "outputs_hidden": true
        },
        "trusted": true,
        "colab": {
          "base_uri": "https://localhost:8080/",
          "height": 295
        },
        "id": "T1uhBzgBV2as",
        "outputId": "5daf8f0d-97bb-4a20-fd2c-e9d3ea3bfc71"
      },
      "execution_count": 17,
      "outputs": [
        {
          "output_type": "display_data",
          "data": {
            "image/png": "[encoded data removed]",
            "text/plain": [
              "<Figure size 432x288 with 1 Axes>"
            ]
          },
          "metadata": {
            "needs_background": "light"
          }
        }
      ]
    },
    {
      "cell_type": "code",
      "source": [
        "# Evaluating our model\n",
        "return_rmse(test_set, LSTM_predicted_stock_price)"
      ],
      "metadata": {
        "_uuid": "f6f6db0b6e1f17ac63c06ce49856873d98ba5f00",
        "collapsed": true,
        "jupyter": {
          "outputs_hidden": true
        },
        "trusted": true,
        "colab": {
          "base_uri": "https://localhost:8080/"
        },
        "id": "p3_JSw90V2at",
        "outputId": "076bedce-805d-42ed-c836-629cf2c4006e"
      },
      "execution_count": 18,
      "outputs": [
        {
          "output_type": "stream",
          "name": "stdout",
          "text": [
            "The root mean squared error is 2.584891105097683.\n"
          ]
        }
      ]
    },
    {
      "cell_type": "markdown",
      "source": [
        "**2. GRU model**"
      ],
      "metadata": {
        "_uuid": "a4cf704ab3cd091f63b7b9a1b9224a49f0913171",
        "trusted": true,
        "id": "-rZsHxsbV2at"
      }
    },
    {
      "cell_type": "code",
      "source": [
        "# The GRU architecture\n",
        "regressorGRU = Sequential()\n",
        "# First GRU layer with Dropout regularisation\n",
        "regressorGRU.add(GRU(50, return_sequences=True, input_shape=(X_train.shape[1],1), activation='tanh'))\n",
        "regressorGRU.add(Dropout(0.2))\n",
        "# Second GRU layer\n",
        "regressorGRU.add(GRU(50, return_sequences=True, input_shape=(X_train.shape[1],1), activation='tanh'))\n",
        "regressorGRU.add(Dropout(0.2))\n",
        "# Third GRU layer\n",
        "regressorGRU.add(GRU(50, return_sequences=True, input_shape=(X_train.shape[1],1), activation='tanh'))\n",
        "regressorGRU.add(Dropout(0.2))\n",
        "# Fourth GRU layer\n",
        "regressorGRU.add(GRU(50, activation='tanh'))\n",
        "regressorGRU.add(Dropout(0.2))\n",
        "# The output layer\n",
        "regressorGRU.add(Dense(1))\n",
        "\n",
        "regressorGRU.summary()"
      ],
      "metadata": {
        "_uuid": "e9b616c5112d707d16cc4b277007e286cffd58f6",
        "collapsed": true,
        "jupyter": {
          "outputs_hidden": true
        },
        "trusted": true,
        "colab": {
          "base_uri": "https://localhost:8080/"
        },
        "id": "bQATZ-eiV2at",
        "outputId": "bc768308-6b9c-40c6-c57e-63fcf9c360d8"
      },
      "execution_count": 19,
      "outputs": [
        {
          "output_type": "stream",
          "name": "stdout",
          "text": [
            "Model: \"sequential_1\"\n",
            "_________________________________________________________________\n",
            " Layer (type)                Output Shape              Param #   \n",
            "=================================================================\n",
            " gru (GRU)                   (None, 60, 50)            7950      \n",
            "                                                                 \n",
            " dropout_4 (Dropout)         (None, 60, 50)            0         \n",
            "                                                                 \n",
            " gru_1 (GRU)                 (None, 60, 50)            15300     \n",
            "                                                                 \n",
            " dropout_5 (Dropout)         (None, 60, 50)            0         \n",
            "                                                                 \n",
            " gru_2 (GRU)                 (None, 60, 50)            15300     \n",
            "                                                                 \n",
            " dropout_6 (Dropout)         (None, 60, 50)            0         \n",
            "                                                                 \n",
            " gru_3 (GRU)                 (None, 50)                15300     \n",
            "                                                                 \n",
            " dropout_7 (Dropout)         (None, 50)                0         \n",
            "                                                                 \n",
            " dense_1 (Dense)             (None, 1)                 51        \n",
            "                                                                 \n",
            "=================================================================\n",
            "Total params: 53,901\n",
            "Trainable params: 53,901\n",
            "Non-trainable params: 0\n",
            "_________________________________________________________________\n"
          ]
        }
      ]
    },
    {
      "cell_type": "code",
      "source": [
        "# Compiling the RNN\n",
        "#regressorGRU.compile(optimizer=SGD(lr=0.01, decay=1e-7, momentum=0.9, nesterov=False),loss='mean_squared_error')\n",
        "regressorGRU.compile(optimizer='adam', loss='mse')\n",
        "# Fitting to the training set\n",
        "gru = regressorGRU.fit(X_train, y_train, epochs=50, batch_size=32)"
      ],
      "metadata": {
        "colab": {
          "base_uri": "https://localhost:8080/"
        },
        "id": "prUip_BCSZxd",
        "outputId": "871a67b5-47a5-4a83-e0e3-8e3a89c407af"
      },
      "execution_count": 20,
      "outputs": [
        {
          "output_type": "stream",
          "name": "stdout",
          "text": [
            "Epoch 1/50\n",
            "85/85 [==============================] - 12s 60ms/step - loss: 0.0248\n",
            "Epoch 2/50\n",
            "85/85 [==============================] - 5s 60ms/step - loss: 0.0045\n",
            "Epoch 3/50\n",
            "85/85 [==============================] - 5s 60ms/step - loss: 0.0038\n",
            "Epoch 4/50\n",
            "85/85 [==============================] - 5s 60ms/step - loss: 0.0037\n",
            "Epoch 5/50\n",
            "85/85 [==============================] - 5s 59ms/step - loss: 0.0032\n",
            "Epoch 6/50\n",
            "85/85 [==============================] - 5s 59ms/step - loss: 0.0031\n",
            "Epoch 7/50\n",
            "85/85 [==============================] - 5s 59ms/step - loss: 0.0028\n",
            "Epoch 8/50\n",
            "85/85 [==============================] - 5s 59ms/step - loss: 0.0033\n",
            "Epoch 9/50\n",
            "85/85 [==============================] - 5s 59ms/step - loss: 0.0026\n",
            "Epoch 10/50\n",
            "85/85 [==============================] - 5s 59ms/step - loss: 0.0025\n",
            "Epoch 11/50\n",
            "85/85 [==============================] - 5s 59ms/step - loss: 0.0025\n",
            "Epoch 12/50\n",
            "85/85 [==============================] - 5s 59ms/step - loss: 0.0026\n",
            "Epoch 13/50\n",
            "85/85 [==============================] - 5s 59ms/step - loss: 0.0024\n",
            "Epoch 14/50\n",
            "85/85 [==============================] - 5s 59ms/step - loss: 0.0022\n",
            "Epoch 15/50\n",
            "85/85 [==============================] - 5s 59ms/step - loss: 0.0024\n",
            "Epoch 16/50\n",
            "85/85 [==============================] - 5s 59ms/step - loss: 0.0023\n",
            "Epoch 17/50\n",
            "85/85 [==============================] - 5s 59ms/step - loss: 0.0024\n",
            "Epoch 18/50\n",
            "85/85 [==============================] - 5s 59ms/step - loss: 0.0021\n",
            "Epoch 19/50\n",
            "85/85 [==============================] - 5s 59ms/step - loss: 0.0018\n",
            "Epoch 20/50\n",
            "85/85 [==============================] - 5s 60ms/step - loss: 0.0021\n",
            "Epoch 21/50\n",
            "85/85 [==============================] - 5s 60ms/step - loss: 0.0019\n",
            "Epoch 22/50\n",
            "85/85 [==============================] - 5s 59ms/step - loss: 0.0020\n",
            "Epoch 23/50\n",
            "85/85 [==============================] - 5s 60ms/step - loss: 0.0019\n",
            "Epoch 24/50\n",
            "85/85 [==============================] - 5s 60ms/step - loss: 0.0018\n",
            "Epoch 25/50\n",
            "85/85 [==============================] - 5s 60ms/step - loss: 0.0018\n",
            "Epoch 26/50\n",
            "85/85 [==============================] - 5s 60ms/step - loss: 0.0017\n",
            "Epoch 27/50\n",
            "85/85 [==============================] - 5s 59ms/step - loss: 0.0019\n",
            "Epoch 28/50\n",
            "85/85 [==============================] - 5s 60ms/step - loss: 0.0018\n",
            "Epoch 29/50\n",
            "85/85 [==============================] - 5s 59ms/step - loss: 0.0017\n",
            "Epoch 30/50\n",
            "85/85 [==============================] - 5s 59ms/step - loss: 0.0015\n",
            "Epoch 31/50\n",
            "85/85 [==============================] - 5s 59ms/step - loss: 0.0015\n",
            "Epoch 32/50\n",
            "85/85 [==============================] - 5s 59ms/step - loss: 0.0017\n",
            "Epoch 33/50\n",
            "85/85 [==============================] - 5s 59ms/step - loss: 0.0016\n",
            "Epoch 34/50\n",
            "85/85 [==============================] - 5s 60ms/step - loss: 0.0015\n",
            "Epoch 35/50\n",
            "85/85 [==============================] - 5s 60ms/step - loss: 0.0014\n",
            "Epoch 36/50\n",
            "85/85 [==============================] - 5s 60ms/step - loss: 0.0015\n",
            "Epoch 37/50\n",
            "85/85 [==============================] - 5s 60ms/step - loss: 0.0014\n",
            "Epoch 38/50\n",
            "85/85 [==============================] - 5s 60ms/step - loss: 0.0013\n",
            "Epoch 39/50\n",
            "85/85 [==============================] - 5s 60ms/step - loss: 0.0015\n",
            "Epoch 40/50\n",
            "85/85 [==============================] - 5s 59ms/step - loss: 0.0013\n",
            "Epoch 41/50\n",
            "85/85 [==============================] - 5s 60ms/step - loss: 0.0013\n",
            "Epoch 42/50\n",
            "85/85 [==============================] - 5s 60ms/step - loss: 0.0013\n",
            "Epoch 43/50\n",
            "85/85 [==============================] - 5s 60ms/step - loss: 0.0012\n",
            "Epoch 44/50\n",
            "85/85 [==============================] - 5s 60ms/step - loss: 0.0014\n",
            "Epoch 45/50\n",
            "85/85 [==============================] - 5s 60ms/step - loss: 0.0012\n",
            "Epoch 46/50\n",
            "85/85 [==============================] - 5s 60ms/step - loss: 0.0013\n",
            "Epoch 47/50\n",
            "85/85 [==============================] - 5s 60ms/step - loss: 0.0012\n",
            "Epoch 48/50\n",
            "85/85 [==============================] - 5s 60ms/step - loss: 0.0012\n",
            "Epoch 49/50\n",
            "85/85 [==============================] - 5s 60ms/step - loss: 0.0011\n",
            "Epoch 50/50\n",
            "85/85 [==============================] - 5s 60ms/step - loss: 0.0010\n"
          ]
        }
      ]
    },
    {
      "cell_type": "code",
      "source": [
        "# loss\n",
        "plt.plot(gru.history['loss'], label='train loss')\n",
        "plt.xlabel('Epoch')\n",
        "plt.ylabel('Loss')\n",
        "plt.legend()\n",
        "plt.show()"
      ],
      "metadata": {
        "colab": {
          "base_uri": "https://localhost:8080/",
          "height": 279
        },
        "id": "cGYTsfCWTxpV",
        "outputId": "836a9404-dc5d-46dc-ba16-bb3dc793e425"
      },
      "execution_count": 21,
      "outputs": [
        {
          "output_type": "display_data",
          "data": {
            "image/png": "[encoded data removed]",
            "text/plain": [
              "<Figure size 432x288 with 1 Axes>"
            ]
          },
          "metadata": {
            "needs_background": "light"
          }
        }
      ]
    },
    {
      "cell_type": "code",
      "source": [
        "# Preparing X_test and predicting the prices\n",
        "X_test = []\n",
        "for i in range(60, 311):\n",
        "    X_test.append(inputs[i-60:i, 0])\n",
        "X_test = np.array(X_test)\n",
        "X_test = np.reshape(X_test, (X_test.shape[0], X_test.shape[1], 1))\n",
        "GRU_predicted_stock_price = regressorGRU.predict(X_test)\n",
        "GRU_predicted_stock_price = sc.inverse_transform(GRU_predicted_stock_price)"
      ],
      "metadata": {
        "_uuid": "f20ca021ea3ce05f6c6a98db93775f1b2c9c022c",
        "collapsed": true,
        "jupyter": {
          "outputs_hidden": true
        },
        "trusted": true,
        "id": "scVvYBjqV2au"
      },
      "execution_count": 22,
      "outputs": []
    },
    {
      "cell_type": "code",
      "source": [
        "# Visualizing the results for GRU\n",
        "plot_predictions(test_set, GRU_predicted_stock_price)"
      ],
      "metadata": {
        "_uuid": "da8e9fa28510aa03e7dd06d5070d7b16e05ebb6e",
        "collapsed": true,
        "jupyter": {
          "outputs_hidden": true
        },
        "trusted": true,
        "colab": {
          "base_uri": "https://localhost:8080/",
          "height": 295
        },
        "id": "YSJG3nrLV2au",
        "outputId": "cca77c71-94d7-4534-c793-ce93c8d31b22"
      },
      "execution_count": 23,
      "outputs": [
        {
          "output_type": "display_data",
          "data": {
            "image/png": "[encoded data removed]",
            "text/plain": [
              "<Figure size 432x288 with 1 Axes>"
            ]
          },
          "metadata": {
            "needs_background": "light"
          }
        }
      ]
    },
    {
      "cell_type": "code",
      "source": [
        "# Evaluating GRU\n",
        "return_rmse(test_set, GRU_predicted_stock_price)"
      ],
      "metadata": {
        "_uuid": "23aec5ab1a717e3458c8d5cae68db0e7add091ae",
        "collapsed": true,
        "jupyter": {
          "outputs_hidden": true
        },
        "trusted": true,
        "colab": {
          "base_uri": "https://localhost:8080/"
        },
        "id": "HTrQ6c9wV2au",
        "outputId": "6543c6a1-50fe-4510-e5b9-28ccd8524950"
      },
      "execution_count": 24,
      "outputs": [
        {
          "output_type": "stream",
          "name": "stdout",
          "text": [
            "The root mean squared error is 2.168854567454493.\n"
          ]
        }
      ]
    },
    {
      "cell_type": "markdown",
      "source": [
        "**3. SimpleRNN model**"
      ],
      "metadata": {
        "id": "6F6psvSxPvXR"
      }
    },
    {
      "cell_type": "code",
      "source": [
        "# The RNN architecture\n",
        "regressorRNN = Sequential()\n",
        "# First RNN layer with Dropout regularisation\n",
        "regressorRNN.add(SimpleRNN(50, return_sequences=True, input_shape=(X_train.shape[1],1)))\n",
        "regressorRNN.add(Dropout(0.2))\n",
        "# Second RNN layer\n",
        "regressorRNN.add(SimpleRNN(50, return_sequences=True))\n",
        "regressorRNN.add(Dropout(0.2))\n",
        "# Third RNN layer\n",
        "regressorRNN.add(SimpleRNN(50, return_sequences=True))\n",
        "regressorRNN.add(Dropout(0.2))\n",
        "# Fourth RNN layer\n",
        "regressorRNN.add(SimpleRNN(50))\n",
        "regressorRNN.add(Dropout(0.2))\n",
        "# The output layer\n",
        "regressorRNN.add(Dense(1))\n",
        "\n",
        "regressorRNN.summary()"
      ],
      "metadata": {
        "colab": {
          "base_uri": "https://localhost:8080/"
        },
        "id": "y_C6Zv09Pzqo",
        "outputId": "e4d9a239-2188-40fc-b0b9-7c00d226db66"
      },
      "execution_count": 25,
      "outputs": [
        {
          "output_type": "stream",
          "name": "stdout",
          "text": [
            "Model: \"sequential_2\"\n",
            "_________________________________________________________________\n",
            " Layer (type)                Output Shape              Param #   \n",
            "=================================================================\n",
            " simple_rnn (SimpleRNN)      (None, 60, 50)            2600      \n",
            "                                                                 \n",
            " dropout_8 (Dropout)         (None, 60, 50)            0         \n",
            "                                                                 \n",
            " simple_rnn_1 (SimpleRNN)    (None, 60, 50)            5050      \n",
            "                                                                 \n",
            " dropout_9 (Dropout)         (None, 60, 50)            0         \n",
            "                                                                 \n",
            " simple_rnn_2 (SimpleRNN)    (None, 60, 50)            5050      \n",
            "                                                                 \n",
            " dropout_10 (Dropout)        (None, 60, 50)            0         \n",
            "                                                                 \n",
            " simple_rnn_3 (SimpleRNN)    (None, 50)                5050      \n",
            "                                                                 \n",
            " dropout_11 (Dropout)        (None, 50)                0         \n",
            "                                                                 \n",
            " dense_2 (Dense)             (None, 1)                 51        \n",
            "                                                                 \n",
            "=================================================================\n",
            "Total params: 17,801\n",
            "Trainable params: 17,801\n",
            "Non-trainable params: 0\n",
            "_________________________________________________________________\n"
          ]
        }
      ]
    },
    {
      "cell_type": "code",
      "source": [
        "# Compiling the RNN\n",
        "regressorRNN.compile(optimizer='adam', loss='mse')\n",
        "# Fitting to the training set\n",
        "rnn = regressorRNN.fit(X_train, y_train, epochs=50, batch_size=32)"
      ],
      "metadata": {
        "colab": {
          "base_uri": "https://localhost:8080/"
        },
        "id": "3KRUqtyfSdiY",
        "outputId": "a84a58fc-7133-4528-adb3-08e10e7b7964"
      },
      "execution_count": 26,
      "outputs": [
        {
          "output_type": "stream",
          "name": "stdout",
          "text": [
            "Epoch 1/50\n",
            "85/85 [==============================] - 31s 333ms/step - loss: 0.3547\n",
            "Epoch 2/50\n",
            "85/85 [==============================] - 29s 337ms/step - loss: 0.1756\n",
            "Epoch 3/50\n",
            "85/85 [==============================] - 29s 336ms/step - loss: 0.1070\n",
            "Epoch 4/50\n",
            "85/85 [==============================] - 29s 339ms/step - loss: 0.0664\n",
            "Epoch 5/50\n",
            "85/85 [==============================] - 29s 336ms/step - loss: 0.0479\n",
            "Epoch 6/50\n",
            "85/85 [==============================] - 28s 324ms/step - loss: 0.0345\n",
            "Epoch 7/50\n",
            "85/85 [==============================] - 27s 319ms/step - loss: 0.0276\n",
            "Epoch 8/50\n",
            "85/85 [==============================] - 28s 330ms/step - loss: 0.0226\n",
            "Epoch 9/50\n",
            "85/85 [==============================] - 28s 326ms/step - loss: 0.0184\n",
            "Epoch 10/50\n",
            "85/85 [==============================] - 28s 328ms/step - loss: 0.0146\n",
            "Epoch 11/50\n",
            "85/85 [==============================] - 28s 327ms/step - loss: 0.0121\n",
            "Epoch 12/50\n",
            "85/85 [==============================] - 27s 319ms/step - loss: 0.0111\n",
            "Epoch 13/50\n",
            "85/85 [==============================] - 28s 325ms/step - loss: 0.0095\n",
            "Epoch 14/50\n",
            "85/85 [==============================] - 27s 322ms/step - loss: 0.0083\n",
            "Epoch 15/50\n",
            "85/85 [==============================] - 28s 326ms/step - loss: 0.0077\n",
            "Epoch 16/50\n",
            "85/85 [==============================] - 28s 326ms/step - loss: 0.0065\n",
            "Epoch 17/50\n",
            "85/85 [==============================] - 28s 329ms/step - loss: 0.0060\n",
            "Epoch 18/50\n",
            "85/85 [==============================] - 29s 338ms/step - loss: 0.0055\n",
            "Epoch 19/50\n",
            "85/85 [==============================] - 30s 348ms/step - loss: 0.0050\n",
            "Epoch 20/50\n",
            "85/85 [==============================] - 29s 342ms/step - loss: 0.0048\n",
            "Epoch 21/50\n",
            "85/85 [==============================] - 29s 344ms/step - loss: 0.0045\n",
            "Epoch 22/50\n",
            "85/85 [==============================] - 29s 347ms/step - loss: 0.0043\n",
            "Epoch 23/50\n",
            "85/85 [==============================] - 29s 347ms/step - loss: 0.0042\n",
            "Epoch 24/50\n",
            "85/85 [==============================] - 29s 340ms/step - loss: 0.0039\n",
            "Epoch 25/50\n",
            "85/85 [==============================] - 39s 461ms/step - loss: 0.0038\n",
            "Epoch 26/50\n",
            "85/85 [==============================] - 29s 347ms/step - loss: 0.0037\n",
            "Epoch 27/50\n",
            "85/85 [==============================] - 29s 342ms/step - loss: 0.0032\n",
            "Epoch 28/50\n",
            "85/85 [==============================] - 30s 352ms/step - loss: 0.0029\n",
            "Epoch 29/50\n",
            "85/85 [==============================] - 28s 324ms/step - loss: 0.0032\n",
            "Epoch 30/50\n",
            "85/85 [==============================] - 28s 326ms/step - loss: 0.0029\n",
            "Epoch 31/50\n",
            "85/85 [==============================] - 28s 333ms/step - loss: 0.0030\n",
            "Epoch 32/50\n",
            "85/85 [==============================] - 28s 335ms/step - loss: 0.0027\n",
            "Epoch 33/50\n",
            "85/85 [==============================] - 28s 333ms/step - loss: 0.0026\n",
            "Epoch 34/50\n",
            "85/85 [==============================] - 28s 325ms/step - loss: 0.0026\n",
            "Epoch 35/50\n",
            "85/85 [==============================] - 28s 326ms/step - loss: 0.0026\n",
            "Epoch 36/50\n",
            "85/85 [==============================] - 27s 322ms/step - loss: 0.0026\n",
            "Epoch 37/50\n",
            "85/85 [==============================] - 36s 424ms/step - loss: 0.0023\n",
            "Epoch 38/50\n",
            "85/85 [==============================] - 29s 335ms/step - loss: 0.0023\n",
            "Epoch 39/50\n",
            "85/85 [==============================] - 28s 325ms/step - loss: 0.0023\n",
            "Epoch 40/50\n",
            "85/85 [==============================] - 27s 314ms/step - loss: 0.0020\n",
            "Epoch 41/50\n",
            "85/85 [==============================] - 29s 337ms/step - loss: 0.0020\n",
            "Epoch 42/50\n",
            "85/85 [==============================] - 27s 322ms/step - loss: 0.0021\n",
            "Epoch 43/50\n",
            "85/85 [==============================] - 28s 327ms/step - loss: 0.0019\n",
            "Epoch 44/50\n",
            "85/85 [==============================] - 27s 322ms/step - loss: 0.0020\n",
            "Epoch 45/50\n",
            "85/85 [==============================] - 27s 318ms/step - loss: 0.0018\n",
            "Epoch 46/50\n",
            "85/85 [==============================] - 27s 319ms/step - loss: 0.0019\n",
            "Epoch 47/50\n",
            "85/85 [==============================] - 28s 325ms/step - loss: 0.0019\n",
            "Epoch 48/50\n",
            "85/85 [==============================] - 27s 313ms/step - loss: 0.0017\n",
            "Epoch 49/50\n",
            "85/85 [==============================] - 28s 328ms/step - loss: 0.0016\n",
            "Epoch 50/50\n",
            "85/85 [==============================] - 27s 321ms/step - loss: 0.0019\n"
          ]
        }
      ]
    },
    {
      "cell_type": "code",
      "source": [
        "# loss\n",
        "plt.plot(rnn.history['loss'], label='train loss')\n",
        "plt.xlabel('Epoch')\n",
        "plt.ylabel('Loss')\n",
        "plt.legend()\n",
        "plt.show()"
      ],
      "metadata": {
        "colab": {
          "base_uri": "https://localhost:8080/",
          "height": 279
        },
        "id": "cyMaslN4S7AT",
        "outputId": "8ae540f5-5648-44f5-a1d8-6ea68b90d888"
      },
      "execution_count": 27,
      "outputs": [
        {
          "output_type": "display_data",
          "data": {
            "image/png": "[encoded data removed]",
            "text/plain": [
              "<Figure size 432x288 with 1 Axes>"
            ]
          },
          "metadata": {
            "needs_background": "light"
          }
        }
      ]
    },
    {
      "cell_type": "code",
      "source": [
        "# Preparing X_test and predicting the prices\n",
        "X_test = []\n",
        "for i in range(60, 311):\n",
        "    X_test.append(inputs[i-60:i, 0])\n",
        "X_test = np.array(X_test)\n",
        "X_test = np.reshape(X_test, (X_test.shape[0], X_test.shape[1], 1))\n",
        "RNN_predicted_stock_price = regressorRNN.predict(X_test)\n",
        "RNN_predicted_stock_price = sc.inverse_transform(RNN_predicted_stock_price)"
      ],
      "metadata": {
        "id": "bubHyKWFS92w"
      },
      "execution_count": 28,
      "outputs": []
    },
    {
      "cell_type": "code",
      "source": [
        "# Visualizing the results for RNN\n",
        "plot_predictions(test_set, RNN_predicted_stock_price)"
      ],
      "metadata": {
        "colab": {
          "base_uri": "https://localhost:8080/",
          "height": 295
        },
        "id": "3EjBVzwbTx3Z",
        "outputId": "a29bd500-f8e1-47d4-fb29-f7000ad235a4"
      },
      "execution_count": 29,
      "outputs": [
        {
          "output_type": "display_data",
          "data": {
            "image/png": "[encoded data removed]",
            "text/plain": [
              "<Figure size 432x288 with 1 Axes>"
            ]
          },
          "metadata": {
            "needs_background": "light"
          }
        }
      ]
    },
    {
      "cell_type": "code",
      "source": [
        "# Evaluating RNN\n",
        "return_rmse(test_set, RNN_predicted_stock_price)"
      ],
      "metadata": {
        "colab": {
          "base_uri": "https://localhost:8080/"
        },
        "id": "U_UOzk0rT6UA",
        "outputId": "f691033c-a573-4814-b822-35f2b99dee92"
      },
      "execution_count": 30,
      "outputs": [
        {
          "output_type": "stream",
          "name": "stdout",
          "text": [
            "The root mean squared error is 2.124389644171504.\n"
          ]
        }
      ]
    },
    {
      "cell_type": "markdown",
      "source": [
        "**Compare predictions made by RNN, GRU, LSTM models by plotting data in a single graph**"
      ],
      "metadata": {
        "id": "yH2PaupWU36k"
      }
    },
    {
      "cell_type": "code",
      "source": [
        "plt.figure(figsize=(7,4))\n",
        "\n",
        "plt.plot(test_set, c=\"orange\", linewidth=2, label=\"Original values\")\n",
        "plt.plot(LSTM_predicted_stock_price, c=\"red\", linewidth=2, label=\"LSTM predictions\")\n",
        "plt.plot(GRU_predicted_stock_price, c=\"green\", linewidth=2, label=\"GRU predictions\")\n",
        "plt.plot(RNN_predicted_stock_price, c=\"blue\", linewidth=2, label=\"RNN predictions\")\n",
        "plt.legend()\n",
        "plt.title(\"Predictions vs actual data\", fontsize=12)\n",
        "plt.xlabel('Time')\n",
        "plt.ylabel('Price')\n",
        "plt.show()"
      ],
      "metadata": {
        "colab": {
          "base_uri": "https://localhost:8080/",
          "height": 295
        },
        "id": "Mi33aurEAKml",
        "outputId": "0d971b07-d2bd-4e03-cce2-8d9674534733"
      },
      "execution_count": 31,
      "outputs": [
        {
          "output_type": "display_data",
          "data": {
            "image/png": "[encoded data removed]",
            "text/plain": [
              "<Figure size 504x288 with 1 Axes>"
            ]
          },
          "metadata": {
            "needs_background": "light"
          }
        }
      ]
    },
    {
      "cell_type": "markdown",
      "source": [
        "The end"
      ],
      "metadata": {
        "id": "RWBS3nTlYe9Q"
      }
    }
  ]
}